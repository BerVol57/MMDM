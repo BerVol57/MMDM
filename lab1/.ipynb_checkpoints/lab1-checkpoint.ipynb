{
 "cells": [
  {
   "cell_type": "markdown",
   "id": "18451c2d-f16a-4619-91b1-057c57384213",
   "metadata": {},
   "source": [
    "<h2 align=\"center\"><b>Лабораторна робота №1</b></h2>\n",
    "<p style=\"text-align: right\">Роботу виконав Беркута Володимир, варіант №1</p>\n",
    "<p style=\"margin-left: 50px\">\n",
    "<b>Тема роботи:</b> Бінарні відношення</br>\n",
    "<b>Мета роботи:</b> вивчення властивостей бінарних відношень, операцій над відношеннями, набуття навичок прийняття рішень на основі заданих відношень.\n",
    "</p>"
   ]
  },
  {
   "cell_type": "markdown",
   "id": "27d9a169-ffa0-47fe-b905-8b9d25befa27",
   "metadata": {},
   "source": [
    "<h3 align=\"center\"><b>Порядок виконання роботи</b></h3>\n",
    "<ol style=\"margin-left: 40px\">\n",
    "    <li>Вивчити необхідний теоретичний матеріал.</li>\n",
    "    <li>Скласти програму для визначення властивостей відношення.</li>\n",
    "    <li>Визначити властивості даного відношення згідно з варіантом індивідуального завдання.</li>\n",
    "    <li>Скласти звіт про виконання роботи, який повинен містити</li>\n",
    "    <ol style=\"list-style-type: disc;\">\n",
    "        <li>постановку індивідуального завдання;</li>\n",
    "        <li>лістинг програми;</li>\n",
    "        <li>результати роботи програми;</li>\n",
    "        <li>аналіз отриманих результатів.</li>\n",
    "    </ol>\n",
    "</ol>"
   ]
  },
  {
   "cell_type": "markdown",
   "id": "f714b937-9f1f-4747-b430-15fca7453ff6",
   "metadata": {},
   "source": [
    "<h3 align=\"center\"><b>Постанова індивідуального завдання</b></h3>\n",
    "<p style=\"margin-left: 50px\">Перевірити, чи буде дане відношення <b><i>рефлексивним</i></b>, <b><i>антирефлексивним</i></b>, <b><i>симетричним</i></b>, <b><i>антисиметричним</i></b>, <b><i>асиметричним</i></b>, <b><i>транзитивним</i></b>. Відшукати для нього <b><i>найбільший</i></b>, <b><i>найменший</i></b>, <b><i>максимальний</i></b> та <b><i>мінімальний</i></b> елементи, якщо такі існують, і побудувати <b><i>обернене</i></b> й <b><i>доповнене</i></b> відношення.</p>\n",
    "\n",
    "$$R=\n",
    "\\begin{pmatrix}\n",
    "    1 & 1 & 0 & 1 & 0 \\\\\n",
    "    1 & 1 & 1 & 1 & 0 \\\\\n",
    "    1 & 0 & 1 & 1 & 1 \\\\\n",
    "    0 & 1 & 1 & 1 & 1 \\\\\n",
    "    0 & 1 & 0 & 0 & 0\n",
    "\\end{pmatrix}\n",
    "$$"
   ]
  },
  {
   "cell_type": "markdown",
   "id": "efc4fb4a-da74-4da3-88ff-3f4ef70fc066",
   "metadata": {},
   "source": [
    "Імпортуємо необхідні бібліотеки й ініціалізуємо матрицю відношення"
   ]
  },
  {
   "cell_type": "code",
   "execution_count": 20,
   "id": "da2ebd94-ecea-404b-bc29-df89eef86a77",
   "metadata": {},
   "outputs": [
    {
     "data": {
      "text/plain": [
       "array([[0, 0, 1, 0, 1],\n",
       "       [1, 0, 0, 0, 1],\n",
       "       [0, 1, 0, 0, 0],\n",
       "       [0, 1, 0, 0, 0],\n",
       "       [1, 0, 0, 1, 0]])"
      ]
     },
     "execution_count": 20,
     "metadata": {},
     "output_type": "execute_result"
    }
   ],
   "source": [
    "import ipywidgets as widgets\n",
    "import numpy as  np\n",
    "\n",
    "# R = np.array([[1, 1, 0, 1, 0], \n",
    "#               [1, 1, 1, 1, 0] ,\n",
    "#               [1, 0, 1, 1, 1], \n",
    "#               [0, 1, 1, 1, 1], \n",
    "#               [0, 1, 0, 0, 0]])\n",
    "R = np.array([[0, 0, 1, 0, 1], \n",
    "              [1, 0, 0, 0, 1], \n",
    "              [0, 1, 0, 0, 0], \n",
    "              [0, 1, 0, 0, 0], \n",
    "              [1, 0, 0, 1, 0]])\n",
    "\n",
    "R"
   ]
  },
  {
   "cell_type": "markdown",
   "id": "d3ad054f-5aa5-4809-9115-61ac5ee482e8",
   "metadata": {},
   "source": [
    "#### **Перевірка на властивості**"
   ]
  },
  {
   "cell_type": "markdown",
   "id": "1b5d1c55-6443-4365-aa9e-06df56aa93c7",
   "metadata": {},
   "source": [
    "<hr>\n",
    "Перевіримо дане відношення R на <b><i>рефлексивність</b></i> та на <b><i>антирефлексивність</b></i>:"
   ]
  },
  {
   "cell_type": "code",
   "execution_count": 21,
   "id": "a90bbd03-0a2c-4480-bddc-a5a55afe7b21",
   "metadata": {},
   "outputs": [
    {
     "data": {
      "application/vnd.jupyter.widget-view+json": {
       "model_id": "4d2bdd8b4ffa482e8a386e4fa7ec18ee",
       "version_major": 2,
       "version_minor": 0
      },
      "text/plain": [
       "HTML(value='Відношення <i>R</i> є <b><i>антирефлексивним</b></i>. </br> <hr>')"
      ]
     },
     "metadata": {},
     "output_type": "display_data"
    }
   ],
   "source": [
    "diag_R = np.diag(R)\n",
    "ref = \"ні рефлексивне ні антирефлексивне\"\n",
    "\n",
    "if (diag_R == np.ones(R.shape[0])).all():\n",
    "    ref = \"рефлексивним\"\n",
    "elif (diag_R == np.zeros(R.shape[0])).all():\n",
    "    ref = \"антирефлексивним\"\n",
    "\n",
    "display(widgets.HTML(f\"Відношення <i>R</i> є <b><i>{ref}</b></i>. </br> <hr>\"))"
   ]
  },
  {
   "cell_type": "markdown",
   "id": "ed80e449-9501-49ef-9dbc-6d6878720d71",
   "metadata": {},
   "source": [
    "Перевіримо дане відношення R чи є воно <b><i>симетричним</b></i>, <b><i>антисиметричним</b></i> або <b><i>асиметричним</b></i>:"
   ]
  },
  {
   "cell_type": "code",
   "execution_count": 22,
   "id": "af136488-75a7-45b4-99b1-6f241f8f7e92",
   "metadata": {},
   "outputs": [
    {
     "data": {
      "application/vnd.jupyter.widget-view+json": {
       "model_id": "5d92c74aeed14431a97e25a2eac50216",
       "version_major": 2,
       "version_minor": 0
      },
      "text/plain": [
       "HTML(value='Відношення <i>R</i> є <b><i>асиметричним</b></i>. </br> <hr>')"
      ]
     },
     "metadata": {},
     "output_type": "display_data"
    }
   ],
   "source": [
    "R__1 = np.transpose(R)\n",
    "sym = \"ні симетричним, ні асиметричним, ні антисиметричним\"\n",
    "\n",
    "if (R==R__1).all():\n",
    "    sym = \"симетричним\"\n",
    "elif (R+R__1-np.eye(R.shape[0])>1).any() and (diag_R == np.zeros(R.shape[0])).all():\n",
    "    sym = \"асиметричним\"\n",
    "elif (diag_R==np.ones(R.shape[0])).any() and not (R+R__1>1).any():\n",
    "    sym = \"антисиметричним\"\n",
    "\n",
    "display(widgets.HTML(f\"Відношення <i>R</i> є <b><i>{sym}</b></i>. </br> <hr>\"))"
   ]
  },
  {
   "cell_type": "markdown",
   "id": "f2823f47-ea77-476d-bc20-d0387ba847e9",
   "metadata": {},
   "source": [
    "Перевіримо дане відношення R на <b><i>транзитивність</b></i>:"
   ]
  },
  {
   "cell_type": "code",
   "execution_count": 23,
   "id": "1fe9a6de-6657-46f4-b0d8-e8ae20403c23",
   "metadata": {},
   "outputs": [
    {
     "data": {
      "application/vnd.jupyter.widget-view+json": {
       "model_id": "ad13240e3efc4c66a8bb1b856db8d755",
       "version_major": 2,
       "version_minor": 0
      },
      "text/plain": [
       "HTML(value='Відношення <i>R</i> є <b><i>не транзитивним</b></i>. </br> <hr>')"
      ]
     },
     "metadata": {},
     "output_type": "display_data"
    }
   ],
   "source": [
    "tran = \"не транзитивним\"\n",
    "\n",
    "if not ((np.dot(R, R)>0)*1-R>0).any():\n",
    "    tran = \"транзитивним\"\n",
    "\n",
    "display(widgets.HTML(f\"Відношення <i>R</i> є <b><i>{tran}</b></i>. </br> <hr>\"))"
   ]
  },
  {
   "cell_type": "markdown",
   "id": "0e21a637-5dba-4bf8-9a5e-1004a4e49730",
   "metadata": {},
   "source": [
    "#### **Пошук особливих елементів**"
   ]
  },
  {
   "cell_type": "code",
   "execution_count": null,
   "id": "20be924f-dc01-4b08-8485-9027891a6123",
   "metadata": {},
   "outputs": [],
   "source": []
  }
 ],
 "metadata": {
  "kernelspec": {
   "display_name": "Python 3 (ipykernel)",
   "language": "python",
   "name": "python3"
  },
  "language_info": {
   "codemirror_mode": {
    "name": "ipython",
    "version": 3
   },
   "file_extension": ".py",
   "mimetype": "text/x-python",
   "name": "python",
   "nbconvert_exporter": "python",
   "pygments_lexer": "ipython3",
   "version": "3.12.1"
  }
 },
 "nbformat": 4,
 "nbformat_minor": 5
}

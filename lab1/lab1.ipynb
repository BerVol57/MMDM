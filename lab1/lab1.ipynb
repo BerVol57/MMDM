{
 "cells": [
  {
   "cell_type": "markdown",
   "id": "18451c2d-f16a-4619-91b1-057c57384213",
   "metadata": {},
   "source": [
    "<h2 align=\"center\"><b>Лабораторна робота №1</b></h2>\n",
    "<p style=\"text-align: right\">Роботу виконав Беркута Володимир, варіант №1</p>\n",
    "<p style=\"margin-left: 50px\">\n",
    "<b>Тема роботи:</b> Бінарні відношення</br>\n",
    "<b>Мета роботи:</b> вивчення властивостей бінарних відношень, операцій над відношеннями, набуття навичок прийняття рішень на основі заданих відношень.\n",
    "</p>"
   ]
  },
  {
   "cell_type": "markdown",
   "id": "27d9a169-ffa0-47fe-b905-8b9d25befa27",
   "metadata": {},
   "source": [
    "<h3 align=\"center\"><b>Порядок виконання роботи</b></h3>\n",
    "<ol style=\"margin-left: 40px\">\n",
    "    <li>Вивчити необхідний теоретичний матеріал.</li>\n",
    "    <li>Скласти програму для визначення властивостей відношення.</li>\n",
    "    <li>Визначити властивості даного відношення згідно з варіантом індивідуального завдання.</li>\n",
    "    <li>Скласти звіт про виконання роботи, який повинен містити</li>\n",
    "    <ol style=\"list-style-type: disc;\">\n",
    "        <li>постановку індивідуального завдання;</li>\n",
    "        <li>лістинг програми;</li>\n",
    "        <li>результати роботи програми;</li>\n",
    "        <li>аналіз отриманих результатів.</li>\n",
    "    </ol>\n",
    "</ol>"
   ]
  },
  {
   "cell_type": "markdown",
   "id": "f714b937-9f1f-4747-b430-15fca7453ff6",
   "metadata": {},
   "source": [
    "<h3 align=\"center\"><b>Постанова індивідуального завдання</b></h3>\n",
    "<p style=\"margin-left: 50px\">Перевірити, чи буде дане відношення <b><i>рефлексивним</i></b>, <b><i>антирефлексивним</i></b>, <b><i>симетричним</i></b>, <b><i>антисиметричним</i></b>, <b><i>асиметричним</i></b>, <b><i>транзитивним</i></b>. Відшукати для нього <b><i>найбільший</i></b>, <b><i>найменший</i></b>, <b><i>максимальний</i></b> та <b><i>мінімальний</i></b> елементи, якщо такі існують, і побудувати <b><i>обернене</i></b> й <b><i>доповнене</i></b> відношення.</p>\n",
    "\n",
    "$$R=\n",
    "\\begin{pmatrix}\n",
    "    1 & 1 & 0 & 1 & 0 \\\\\n",
    "    1 & 1 & 1 & 1 & 0 \\\\\n",
    "    1 & 0 & 1 & 1 & 1 \\\\\n",
    "    0 & 1 & 1 & 1 & 1 \\\\\n",
    "    0 & 1 & 0 & 0 & 0\n",
    "\\end{pmatrix}\n",
    "$$"
   ]
  },
  {
   "cell_type": "markdown",
   "id": "efc4fb4a-da74-4da3-88ff-3f4ef70fc066",
   "metadata": {},
   "source": [
    "Імпортуємо необхідні бібліотеки й ініціалізуємо матрицю відношення"
   ]
  },
  {
   "cell_type": "code",
   "execution_count": 1,
   "id": "da2ebd94-ecea-404b-bc29-df89eef86a77",
   "metadata": {},
   "outputs": [
    {
     "data": {
      "text/plain": [
       "array([[1, 1, 0, 1, 0],\n",
       "       [1, 1, 1, 1, 0],\n",
       "       [1, 0, 1, 1, 1],\n",
       "       [0, 1, 1, 1, 1],\n",
       "       [0, 1, 0, 0, 0]])"
      ]
     },
     "execution_count": 1,
     "metadata": {},
     "output_type": "execute_result"
    }
   ],
   "source": [
    "from IPython.display import display, Math, Latex\n",
    "import ipywidgets as widgets\n",
    "import numpy as  np\n",
    "\n",
    "R = np.array([[1, 1, 0, 1, 0], \n",
    "              [1, 1, 1, 1, 0] ,\n",
    "              [1, 0, 1, 1, 1], \n",
    "              [0, 1, 1, 1, 1], \n",
    "              [0, 1, 0, 0, 0]])\n",
    "\n",
    "# R = np.array([[0, 0, 1, 0, 1], \n",
    "#               [1, 0, 0, 0, 1], \n",
    "#               [0, 1, 0, 0, 0], \n",
    "#               [0, 1, 0, 0, 0], \n",
    "#               [1, 0, 0, 1, 0]])\n",
    "\n",
    "# R = np.array([[1, 0, 1, 0],[1, 1, 0, 0], [1, 0, 1, 1], [1, 0, 0, 1]])\n",
    "\n",
    "R"
   ]
  },
  {
   "cell_type": "markdown",
   "id": "9d2a6866-ce21-4636-b38d-e072633be74e",
   "metadata": {},
   "source": [
    "* В наступній клітинці реалізовані деякі фукнції для знаходження перетину, об'днання, та візуалізація матриць через LaTeX"
   ]
  },
  {
   "cell_type": "code",
   "execution_count": 2,
   "id": "49b18bea-7d93-4715-aeff-3748285c15b5",
   "metadata": {},
   "outputs": [],
   "source": [
    "def print_latex_matrix(matrix_name, array):\n",
    "    matrix = ''\n",
    "    for row in array:\n",
    "        try:\n",
    "            for number in row:\n",
    "                matrix += f'{number}&'\n",
    "        except TypeError:\n",
    "            matrix += f'{row}&'\n",
    "        matrix = matrix[:-1] + r'\\\\'\n",
    "    display(Math(matrix_name+r'=\\begin{pmatrix}'+matrix+r'\\end{pmatrix}'))\n",
    "\n",
    "\n",
    "def relations_union(R1, R2):\n",
    "    if R1.shape == R2.shape:\n",
    "        union = np.ndarray(R1.shape)\n",
    "        for i in range(R1.shape[0]):\n",
    "            for j in range(R1.shape[1]):\n",
    "                union[i, j] = max(R1[i, j], R2[i, j])\n",
    "                \n",
    "        return union\n",
    "\n",
    "    else: \n",
    "        print(\"error\")\n",
    "\n",
    "\n",
    "def relations_intersection(R1, R2):\n",
    "    if R1.shape == R2.shape:\n",
    "        cross = np.ndarray(R1.shape)\n",
    "        for i in range(R1.shape[0]):\n",
    "            for j in range(R1.shape[1]):\n",
    "                cross[i, j] = min(R1[i, j], R2[i, j])\n",
    "                \n",
    "        return cross\n",
    "\n",
    "    else: \n",
    "        print(\"error\")"
   ]
  },
  {
   "cell_type": "markdown",
   "id": "d3ad054f-5aa5-4809-9115-61ac5ee482e8",
   "metadata": {},
   "source": [
    "#### **Перевірка на властивості**"
   ]
  },
  {
   "cell_type": "markdown",
   "id": "1b5d1c55-6443-4365-aa9e-06df56aa93c7",
   "metadata": {},
   "source": [
    "<hr>\n",
    "Перевіримо дане відношення R на <b><i>рефлексивність</b></i> та на <b><i>антирефлексивність</b></i>:"
   ]
  },
  {
   "cell_type": "code",
   "execution_count": 3,
   "id": "a90bbd03-0a2c-4480-bddc-a5a55afe7b21",
   "metadata": {},
   "outputs": [
    {
     "data": {
      "text/latex": [
       "$\\displaystyle R=\\begin{pmatrix}1&1&0&1&0\\\\1&1&1&1&0\\\\1&0&1&1&1\\\\0&1&1&1&1\\\\0&1&0&0&0\\\\\\end{pmatrix}$"
      ],
      "text/plain": [
       "<IPython.core.display.Math object>"
      ]
     },
     "metadata": {},
     "output_type": "display_data"
    },
    {
     "data": {
      "application/vnd.jupyter.widget-view+json": {
       "model_id": "8a228628b6934e18b22c4941ec7ae705",
       "version_major": 2,
       "version_minor": 0
      },
      "text/plain": [
       "HTML(value='Відношення <i>R</i> є <b><i>ні рефлексивне ні антирефлексивне</b></i>. </br> <hr>')"
      ]
     },
     "metadata": {},
     "output_type": "display_data"
    }
   ],
   "source": [
    "diag_R = np.diag(R)\n",
    "ref = \"ні рефлексивне ні антирефлексивне\"\n",
    "\n",
    "if (diag_R == np.ones(R.shape[0])).all():\n",
    "    ref = \"рефлексивним\"\n",
    "elif (diag_R == np.zeros(R.shape[0])).all():\n",
    "    ref = \"антирефлексивним\"\n",
    "\n",
    "print_latex_matrix(\"R\", R)\n",
    "\n",
    "display(widgets.HTML(f\"Відношення <i>R</i> є <b><i>{ref}</b></i>. </br> <hr>\"))"
   ]
  },
  {
   "cell_type": "markdown",
   "id": "ed80e449-9501-49ef-9dbc-6d6878720d71",
   "metadata": {},
   "source": [
    "Перевіримо дане відношення R чи є воно <b><i>симетричним</b></i>, <b><i>антисиметричним</b></i> або <b><i>асиметричним</b></i>:"
   ]
  },
  {
   "cell_type": "code",
   "execution_count": 10,
   "id": "af136488-75a7-45b4-99b1-6f241f8f7e92",
   "metadata": {},
   "outputs": [
    {
     "data": {
      "text/latex": [
       "$\\displaystyle R=\\begin{pmatrix}1&1&0&1&0\\\\1&1&1&1&0\\\\1&0&1&1&1\\\\0&1&1&1&1\\\\0&1&0&0&0\\\\\\end{pmatrix}$"
      ],
      "text/plain": [
       "<IPython.core.display.Math object>"
      ]
     },
     "metadata": {},
     "output_type": "display_data"
    },
    {
     "data": {
      "text/latex": [
       "$\\displaystyle R^{-1}=\\begin{pmatrix}1&1&1&0&0\\\\1&1&0&1&1\\\\0&1&1&1&0\\\\1&1&1&1&0\\\\0&0&1&1&0\\\\\\end{pmatrix}$"
      ],
      "text/plain": [
       "<IPython.core.display.Math object>"
      ]
     },
     "metadata": {},
     "output_type": "display_data"
    },
    {
     "data": {
      "text/latex": [
       "$\\displaystyle R \\cap R^{-1}=\\begin{pmatrix}1&1&0&0&0\\\\1&1&0&1&0\\\\0&0&1&1&0\\\\0&1&1&1&0\\\\0&0&0&0&0\\\\\\end{pmatrix}$"
      ],
      "text/plain": [
       "<IPython.core.display.Math object>"
      ]
     },
     "metadata": {},
     "output_type": "display_data"
    },
    {
     "data": {
      "application/vnd.jupyter.widget-view+json": {
       "model_id": "53dea9a7a2bd447bb9c999121743c366",
       "version_major": 2,
       "version_minor": 0
      },
      "text/plain": [
       "HTML(value='Відношення <i>R</i> є <b><i>ні симетричним, ні асиметричним, ні антисиметричним</b></i>. </br> <hr…"
      ]
     },
     "metadata": {},
     "output_type": "display_data"
    }
   ],
   "source": [
    "R__1 = np.transpose(R)\n",
    "print_latex_matrix(r'R', R)\n",
    "print_latex_matrix(r'R^{-1}', R__1)\n",
    "sym = \"ні симетричним, ні асиметричним, ні антисиметричним\"\n",
    "\n",
    "if (R==R__1).all():\n",
    "    sym = \"симетричним\"\n",
    "elif (relations_intersection(R, R__1)==0).all():\n",
    "    sym = \"асиметричним\"\n",
    "elif not (relations_intersection(R, R__1)-np.eye(R.shape[0])>0).any():\n",
    "    sym = \"антисиметричним\"\n",
    "    \n",
    "print_latex_matrix(r'R \\cap R^{-1}', relations_intersection(R, R__1).astype('int8'))\n",
    "\n",
    "display(widgets.HTML(f\"Відношення <i>R</i> є <b><i>{sym}</b></i>. </br> <hr>\"))"
   ]
  },
  {
   "cell_type": "markdown",
   "id": "f2823f47-ea77-476d-bc20-d0387ba847e9",
   "metadata": {},
   "source": [
    "Перевіримо дане відношення R на <b><i>транзитивність</b></i>:"
   ]
  },
  {
   "cell_type": "code",
   "execution_count": 5,
   "id": "1fe9a6de-6657-46f4-b0d8-e8ae20403c23",
   "metadata": {},
   "outputs": [
    {
     "data": {
      "text/latex": [
       "$\\displaystyle R=\\begin{pmatrix}1&1&0&1&0\\\\1&1&1&1&0\\\\1&0&1&1&1\\\\0&1&1&1&1\\\\0&1&0&0&0\\\\\\end{pmatrix}$"
      ],
      "text/plain": [
       "<IPython.core.display.Math object>"
      ]
     },
     "metadata": {},
     "output_type": "display_data"
    },
    {
     "data": {
      "text/latex": [
       "$\\displaystyle R^2=\\begin{pmatrix}1&1&1&1&1\\\\1&1&1&1&1\\\\1&1&1&1&1\\\\1&1&1&1&1\\\\1&1&1&1&0\\\\\\end{pmatrix}$"
      ],
      "text/plain": [
       "<IPython.core.display.Math object>"
      ]
     },
     "metadata": {},
     "output_type": "display_data"
    },
    {
     "data": {
      "application/vnd.jupyter.widget-view+json": {
       "model_id": "918a8bee19f941fcb3e4c1cc6c230c3c",
       "version_major": 2,
       "version_minor": 0
      },
      "text/plain": [
       "HTML(value='Відношення <i>R</i> є <b><i>не транзитивним</b></i>. </br> <hr>')"
      ]
     },
     "metadata": {},
     "output_type": "display_data"
    }
   ],
   "source": [
    "tran = \"не транзитивним\"\n",
    "\n",
    "print_latex_matrix(r'R', R)\n",
    "print_latex_matrix(r'R^2', (np.dot(R, R)>0)*1)\n",
    "\n",
    "if not ((np.dot(R, R)>0)*1-R>0).any():\n",
    "    tran = \"транзитивним\"\n",
    "\n",
    "display(widgets.HTML(f\"Відношення <i>R</i> є <b><i>{tran}</b></i>. </br> <hr>\"))"
   ]
  },
  {
   "cell_type": "markdown",
   "id": "0e21a637-5dba-4bf8-9a5e-1004a4e49730",
   "metadata": {},
   "source": [
    "#### **Пошук особливих елементів**"
   ]
  },
  {
   "cell_type": "markdown",
   "id": "7c9a8837-c3b6-4118-974a-581dd97ab427",
   "metadata": {},
   "source": [
    "<hr>\n",
    "\n",
    "Знайдемо <b><i>найменший</b></i> та <b><i>найбільші</b></i> елементи."
   ]
  },
  {
   "cell_type": "code",
   "execution_count": 6,
   "id": "15aefb16-6ea3-43ca-9fff-969e62fe1ca6",
   "metadata": {},
   "outputs": [
    {
     "data": {
      "text/latex": [
       "$\\displaystyle R=\\begin{pmatrix}1&1&0&1&0\\\\1&1&1&1&0\\\\1&0&1&1&1\\\\0&1&1&1&1\\\\0&1&0&0&0\\\\\\end{pmatrix}$"
      ],
      "text/plain": [
       "<IPython.core.display.Math object>"
      ]
     },
     "metadata": {},
     "output_type": "display_data"
    },
    {
     "data": {
      "application/vnd.jupyter.widget-view+json": {
       "model_id": "7e863871b5fe4c16bb1938ffd462a044",
       "version_major": 2,
       "version_minor": 0
      },
      "text/plain": [
       "HTML(value='<b><i>Найбільший</b></i> елементом буде: <b><i>немає</i></b>; </br> <b><i>Найменшим</b></i> елемен…"
      ]
     },
     "metadata": {},
     "output_type": "display_data"
    }
   ],
   "source": [
    "biggest_elements = \"<b><i>немає</i></b>\"\n",
    "smallestd_elements = \"<b><i>немає</i></b>\"\n",
    "\n",
    "print_latex_matrix(r'R', R.astype('int8'))\n",
    "\n",
    "for i in range(R.shape[0]):\n",
    "    if (R[i]==1).all():\n",
    "        biggest_elements = i+1\n",
    "\n",
    "for i in range(R.shape[0]):\n",
    "    if (R[..., i]==1).all():\n",
    "        smallestd_elements = i+1\n",
    "\n",
    "\n",
    "display(widgets.HTML(f\"<b><i>Найбільший</b></i> елементом буде: {biggest_elements}; </br> <b><i>Найменшим</b></i> елементом буде: {smallestd_elements}. </br> <hr>\"))"
   ]
  },
  {
   "cell_type": "markdown",
   "id": "665a1fbf-2129-47a2-9e59-6a27dd806391",
   "metadata": {},
   "source": [
    "<hr>\n",
    "\n",
    "Побудуємо <b><i>строге</b></i> відношення.\n",
    "Знайдемо <b><i>мінімальні</b></i> та <b><i>максимальні</b></i> елементи."
   ]
  },
  {
   "cell_type": "code",
   "execution_count": 7,
   "id": "44084c74-f337-4435-a19a-b342937a3e78",
   "metadata": {},
   "outputs": [
    {
     "data": {
      "text/latex": [
       "$\\displaystyle R^{S}=\\begin{pmatrix}0&0&0&1&0\\\\0&0&1&0&0\\\\1&0&0&0&1\\\\0&0&0&0&1\\\\0&1&0&0&0\\\\\\end{pmatrix}$"
      ],
      "text/plain": [
       "<IPython.core.display.Math object>"
      ]
     },
     "metadata": {},
     "output_type": "display_data"
    },
    {
     "data": {
      "application/vnd.jupyter.widget-view+json": {
       "model_id": "cad298829bcf414c884ab7b0af85a01d",
       "version_major": 2,
       "version_minor": 0
      },
      "text/plain": [
       "HTML(value='<b><i>Максимальними</b></i> елементами будуть: []; </br> <b><i>Мінімальними</b></i> елементами буд…"
      ]
     },
     "metadata": {},
     "output_type": "display_data"
    }
   ],
   "source": [
    "R_S = ((R - np.transpose(R))>0)*1\n",
    "\n",
    "print_latex_matrix(r'R^{S}', R_S.astype('int8'))\n",
    "\n",
    "max_elements = []\n",
    "min_elements = []\n",
    "\n",
    "for i in range(R.shape[0]):\n",
    "    if (R_S[i]==0).all():\n",
    "        min_elements.append(i+1)\n",
    "\n",
    "for i in range(R.shape[0]):\n",
    "    if (R_S[..., i]==0).all():\n",
    "        max_elements.append(i+1)\n",
    "\n",
    "\n",
    "display(widgets.HTML(f\"<b><i>Максимальними</b></i> елементами будуть: {max_elements}; </br> <b><i>Мінімальними</b></i> елементами будуть: {min_elements}. </br> <hr>\"))"
   ]
  },
  {
   "cell_type": "markdown",
   "id": "9638e595-8d86-4804-99ca-e726b7892166",
   "metadata": {},
   "source": [
    "#### **Побудова відношень**"
   ]
  },
  {
   "cell_type": "markdown",
   "id": "1efce404-2514-45a3-b978-2e47ae049ecd",
   "metadata": {},
   "source": [
    "<hr>\n",
    "\n",
    "Побудуємо <b><i>обернене</b></i> відношення та <b><i>доповнене</b></i> відношення."
   ]
  },
  {
   "cell_type": "code",
   "execution_count": 9,
   "id": "ffe72ecc-c970-4b78-b74f-57704c7eb501",
   "metadata": {},
   "outputs": [
    {
     "data": {
      "text/latex": [
       "$\\displaystyle R=\\begin{pmatrix}1&1&0&1&0\\\\1&1&1&1&0\\\\1&0&1&1&1\\\\0&1&1&1&1\\\\0&1&0&0&0\\\\\\end{pmatrix}$"
      ],
      "text/plain": [
       "<IPython.core.display.Math object>"
      ]
     },
     "metadata": {},
     "output_type": "display_data"
    },
    {
     "data": {
      "text/latex": [
       "$\\displaystyle R^{-1}=\\begin{pmatrix}1&1&1&0&0\\\\1&1&0&1&1\\\\0&1&1&1&0\\\\1&1&1&1&0\\\\0&0&1&1&0\\\\\\end{pmatrix}$"
      ],
      "text/plain": [
       "<IPython.core.display.Math object>"
      ]
     },
     "metadata": {},
     "output_type": "display_data"
    },
    {
     "data": {
      "text/latex": [
       "$\\displaystyle \\overline{R}=\\begin{pmatrix}0&0&1&0&1\\\\0&0&0&0&1\\\\0&1&0&0&0\\\\1&0&0&0&0\\\\1&0&1&1&1\\\\\\end{pmatrix}$"
      ],
      "text/plain": [
       "<IPython.core.display.Math object>"
      ]
     },
     "metadata": {},
     "output_type": "display_data"
    }
   ],
   "source": [
    "print_latex_matrix(r'R', R)\n",
    "print_latex_matrix(r'R^{-1}', R__1)\n",
    "print_latex_matrix(r'\\overline{R}', (np.ones(R.shape)-R).astype('int8'))"
   ]
  },
  {
   "cell_type": "code",
   "execution_count": null,
   "id": "71ec8364-5270-4193-9dce-6097f7c287bf",
   "metadata": {},
   "outputs": [],
   "source": []
  }
 ],
 "metadata": {
  "kernelspec": {
   "display_name": "Python 3 (ipykernel)",
   "language": "python",
   "name": "python3"
  },
  "language_info": {
   "codemirror_mode": {
    "name": "ipython",
    "version": 3
   },
   "file_extension": ".py",
   "mimetype": "text/x-python",
   "name": "python",
   "nbconvert_exporter": "python",
   "pygments_lexer": "ipython3",
   "version": "3.12.1"
  }
 },
 "nbformat": 4,
 "nbformat_minor": 5
}

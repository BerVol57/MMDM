{
 "cells": [
  {
   "cell_type": "markdown",
   "id": "a49ec398-cbeb-41fe-ae4e-5f31a7c82d9d",
   "metadata": {},
   "source": [
    "<h2 align=\"center\"><b>Лабораторна робота №3</b></h2>\n",
    "<p style=\"text-align: right\">Роботу виконав Беркута Володимир, варіант №1</p>\n",
    "<p style=\"margin-left: 50px\">\n",
    "<b>Тема роботи:</b> Розв’язування задач нечіткого математичного програмування</br>\n",
    "<b>Мета роботи:</b> вивчення методів розв’язування задач нечіткого математичного програмування\n",
    "</p>"
   ]
  },
  {
   "cell_type": "markdown",
   "id": "60ae4c08-6b94-42d5-acaf-2c38c8daf025",
   "metadata": {},
   "source": [
    "<h3 align=\"center\"><b>Постанова індивідуального завдання:</b></h3>\n",
    "\n",
    "$$ f(z_1, z_2)=2x_1+5x_2 \\rightarrow max;$$\n",
    "$$ x_1+x_2\\geq\\approx4,$$\n",
    "$$ 4x_1+6x_2\\leq\\approx24,$$\n",
    "$$ 3x_1+8x_2\\leq\\approx24,$$\n",
    "$$ x_1,x_2\\geq0.$$"
   ]
  },
  {
   "cell_type": "code",
   "execution_count": 43,
   "id": "65258957-aa25-46b2-8515-1237ff4bb5aa",
   "metadata": {},
   "outputs": [],
   "source": [
    "from IPython.display import display, Math, Latex, HTML\n",
    "from scipy.optimize import linprog\n",
    "import numpy as np"
   ]
  },
  {
   "cell_type": "markdown",
   "id": "83c60a4d-1225-4843-bcd1-a4a09a357326",
   "metadata": {},
   "source": [
    "$$ \\lambda_1=1:$$"
   ]
  },
  {
   "cell_type": "code",
   "execution_count": 44,
   "id": "f155d7bf-0d3f-4367-b4a5-24de7dd13919",
   "metadata": {},
   "outputs": [
    {
     "data": {
      "text/latex": [
       "$\\displaystyle f(x_1,\\space x_2)=$"
      ],
      "text/plain": [
       "<IPython.core.display.Math object>"
      ]
     },
     "metadata": {},
     "output_type": "display_data"
    },
    {
     "data": {
      "text/plain": [
       "15.428571428571429"
      ]
     },
     "metadata": {},
     "output_type": "display_data"
    },
    {
     "data": {
      "text/latex": [
       "$\\displaystyle [x_1, \\space x_2]=$"
      ],
      "text/plain": [
       "<IPython.core.display.Math object>"
      ]
     },
     "metadata": {},
     "output_type": "display_data"
    },
    {
     "data": {
      "text/plain": [
       "[3.428571428571429, 1.7142857142857142]"
      ]
     },
     "metadata": {},
     "output_type": "display_data"
    }
   ],
   "source": [
    "c = [-2, -5]\n",
    "A = [[-1, -1], \n",
    "     [4, 6], \n",
    "     [3, 8]]\n",
    "b = [-4, 24, 24]\n",
    "x1_bounds = (0, None)\n",
    "x2_bounds = (0, None)\n",
    "res = linprog(c, A_ub=A, b_ub=b, bounds=[x1_bounds, x2_bounds])\n",
    "\n",
    "display(Math(r'f(x_1,\\space x_2)='), -res.fun)\n",
    "display(Math(r'[x_1, \\space x_2]='), list(res.x))"
   ]
  },
  {
   "cell_type": "markdown",
   "id": "2869624d-0b81-406f-8c87-b2eb14f24481",
   "metadata": {},
   "source": [
    "$$ \\lambda_2=0.7:$$"
   ]
  },
  {
   "cell_type": "code",
   "execution_count": 45,
   "id": "8958d106-b8d5-4f09-9008-539a09d5e31c",
   "metadata": {},
   "outputs": [
    {
     "data": {
      "text/latex": [
       "$\\displaystyle f(x_1,\\space x_2)=$"
      ],
      "text/plain": [
       "<IPython.core.display.Math object>"
      ]
     },
     "metadata": {},
     "output_type": "display_data"
    },
    {
     "data": {
      "text/plain": [
       "16.071428571428573"
      ]
     },
     "metadata": {},
     "output_type": "display_data"
    },
    {
     "data": {
      "text/latex": [
       "$\\displaystyle [x_1, \\space x_2]=$"
      ],
      "text/plain": [
       "<IPython.core.display.Math object>"
      ]
     },
     "metadata": {},
     "output_type": "display_data"
    },
    {
     "data": {
      "text/plain": [
       "[3.57142857142857, 1.7857142857142867]"
      ]
     },
     "metadata": {},
     "output_type": "display_data"
    }
   ],
   "source": [
    "b_2 = np.add(b, 1)\n",
    "\n",
    "res_2 = linprog(c, A_ub=A, b_ub=b_2, bounds=[x1_bounds, x2_bounds])\n",
    "\n",
    "display(Math(r'f(x_1,\\space x_2)='), -res_2.fun)\n",
    "display(Math(r'[x_1, \\space x_2]='), list(res_2.x))"
   ]
  },
  {
   "cell_type": "markdown",
   "id": "dfee7318-c654-412f-ac28-8ce7213fbf9a",
   "metadata": {},
   "source": [
    "$$ \\lambda_3=0.5:$$"
   ]
  },
  {
   "cell_type": "code",
   "execution_count": 46,
   "id": "d5c6cbc7-4f13-4ea7-a4fc-7e4a5f32586e",
   "metadata": {},
   "outputs": [
    {
     "data": {
      "text/latex": [
       "$\\displaystyle f(x_1,\\space x_2)=$"
      ],
      "text/plain": [
       "<IPython.core.display.Math object>"
      ]
     },
     "metadata": {},
     "output_type": "display_data"
    },
    {
     "data": {
      "text/plain": [
       "16.714285714285715"
      ]
     },
     "metadata": {},
     "output_type": "display_data"
    },
    {
     "data": {
      "text/latex": [
       "$\\displaystyle [x_1, \\space x_2]=$"
      ],
      "text/plain": [
       "<IPython.core.display.Math object>"
      ]
     },
     "metadata": {},
     "output_type": "display_data"
    },
    {
     "data": {
      "text/plain": [
       "[3.7142857142857135, 1.8571428571428577]"
      ]
     },
     "metadata": {},
     "output_type": "display_data"
    }
   ],
   "source": [
    "b_3 = np.add(b_2, 1)\n",
    "\n",
    "res_3 = linprog(c, A_ub=A, b_ub=b_3, bounds=[x1_bounds, x2_bounds])\n",
    "\n",
    "display(Math(r'f(x_1,\\space x_2)='), -res_3.fun)\n",
    "display(Math(r'[x_1, \\space x_2]='), list(res_3.x))"
   ]
  },
  {
   "cell_type": "markdown",
   "id": "569d8c25-9632-42c6-a9a0-e2a81070de93",
   "metadata": {},
   "source": [
    "Табличка:"
   ]
  },
  {
   "cell_type": "code",
   "execution_count": 72,
   "id": "c5cb1e65-9577-4741-b5ec-69b2d0af1fc6",
   "metadata": {},
   "outputs": [
    {
     "data": {
      "text/html": [
       "\n",
       "<table style=\"margin-left: 30%\"; border: 1px solid black;>\n",
       "  <tr style=\"border: 1px solid black;\">\n",
       "    <td>x<sub>1</sub></td>\n",
       "    <td>x<sub>2</sub></td>\n",
       "    <td>f</td>\n",
       "    <td>&lambda;<sub>i</sub></td>\n",
       "  </tr>\n",
       "  <tr style=\"border: 1px solid black;\">\n",
       "    <td>3.428571428571429</td>\n",
       "    <td>1.7142857142857142</td>\n",
       "    <td>15.428571428571429</td>\n",
       "    <td>1</td>\n",
       "  </tr>\n",
       "  <tr style=\"border: 1px solid black;\">\n",
       "    <td>3.57142857142857</td>\n",
       "    <td>1.7857142857142867</td>\n",
       "    <td>16.071428571428573</td>\n",
       "    <td>0.7</td>\n",
       "  </tr>\n",
       "  <tr style=\"border: 1px solid black;\">\n",
       "    <td>3.7142857142857135</td>\n",
       "    <td>1.8571428571428577</td>\n",
       "    <td>16.714285714285715</td>\n",
       "    <td>0.5</td>\n",
       "  </tr>\n",
       "</table>\n"
      ],
      "text/plain": [
       "<IPython.core.display.HTML object>"
      ]
     },
     "metadata": {},
     "output_type": "display_data"
    }
   ],
   "source": [
    "html_table = f\"\"\"\n",
    "<table style=\"margin-left: 30%\"; border: 1px solid black;>\n",
    "  <tr style=\"border: 1px solid black;\">\n",
    "    <td>x<sub>1</sub></td>\n",
    "    <td>x<sub>2</sub></td>\n",
    "    <td>f</td>\n",
    "    <td>&lambda;<sub>i</sub></td>\n",
    "  </tr>\n",
    "  <tr style=\"border: 1px solid black;\">\n",
    "    <td>{res.x[0]}</td>\n",
    "    <td>{res.x[1]}</td>\n",
    "    <td>{-res.fun}</td>\n",
    "    <td>1</td>\n",
    "  </tr>\n",
    "  <tr style=\"border: 1px solid black;\">\n",
    "    <td>{res_2.x[0]}</td>\n",
    "    <td>{res_2.x[1]}</td>\n",
    "    <td>{-res_2.fun}</td>\n",
    "    <td>0.7</td>\n",
    "  </tr>\n",
    "  <tr style=\"border: 1px solid black;\">\n",
    "    <td>{res_3.x[0]}</td>\n",
    "    <td>{res_3.x[1]}</td>\n",
    "    <td>{-res_3.fun}</td>\n",
    "    <td>0.5</td>\n",
    "  </tr>\n",
    "</table>\n",
    "\"\"\"\n",
    "display(HTML(html_table))"
   ]
  }
 ],
 "metadata": {
  "kernelspec": {
   "display_name": "Python 3 (ipykernel)",
   "language": "python",
   "name": "python3"
  },
  "language_info": {
   "codemirror_mode": {
    "name": "ipython",
    "version": 3
   },
   "file_extension": ".py",
   "mimetype": "text/x-python",
   "name": "python",
   "nbconvert_exporter": "python",
   "pygments_lexer": "ipython3",
   "version": "3.12.1"
  }
 },
 "nbformat": 4,
 "nbformat_minor": 5
}

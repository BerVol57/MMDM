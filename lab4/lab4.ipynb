{
 "cells": [
  {
   "cell_type": "markdown",
   "id": "c782fffa-ee92-4eb4-8cde-60bfbbb82565",
   "metadata": {},
   "source": [
    "<h2 align=\"center\"><b>Лабораторна робота №4</b></h2>\n",
    "<p style=\"text-align: right\">Роботу виконав Беркута Володимир, варіант №1</p>\n",
    "<p style=\"margin-left: 50px\">\n",
    "<b>Тема роботи:</b> Прийняття рішень на основі нечітких відношень переваги.</br>\n",
    "<b>Мета роботи:</b> вивчення властивостей нечітких відношень переваги та методів прийняття рішень за нечіткими відношеннями переваги.\n",
    "</p>"
   ]
  },
  {
   "cell_type": "markdown",
   "id": "2019e60a-3a80-44e7-af76-c491a4de9c52",
   "metadata": {},
   "source": [
    "<h3 align=\"center\"><b>Постанова індивідуального завдання</b></h3>\n",
    "<p style=\"margin-left: 50px\">Нехай множина <i>X</i>={x<sub>1</sub>, x<sub>2</sub>, x<sub>3</sub>, x<sub>4</sub>, x<sub>5</sub>}. На ній подано два нечіткі відношення переваги: <i>R<sub>1</sub></i> та <i>R<sub>2</sub></i>, значущість яких, на думку ОПР, дорівнює відповідно &lambda;<sub>1</sub> та &lambda;<sub>2</sub>. Необхідно здійснити раціональний вибір альтернативи з множини <i>X</i> на основі заданих відношень переваг.</p>\n",
    "\n",
    "$$R_1=\n",
    "\\begin{pmatrix}\n",
    "    1 & 0.3 & 0.8 & 0.5 & 1 \\\\\n",
    "    0.6 & 1 & 0.7 & 0.3 & 0.7 \\\\\n",
    "    0.6 & 0 & 1 & 0.9 & 0.1 \\\\\n",
    "    0.3 & 1 & 0.6 & 1 & 0.4 \\\\\n",
    "    0.2 & 0 & 0.1 & 0.1 & 1\n",
    "\\end{pmatrix}\n",
    "$$\n",
    "\n",
    "$$R_2=\n",
    "\\begin{pmatrix}\n",
    "    1 & 0 & 1 & 0 & 0.6 \\\\\n",
    "    1 & 1 & 0.9 & 0.4 & 1 \\\\\n",
    "    0 & 0.7 & 1 & 0 & 0.7 \\\\\n",
    "    0.5 & 0.3 & 0 & 1 & 0.7 \\\\\n",
    "    1 & 0.9 & 0.8 & 0.3 & 1\n",
    "\\end{pmatrix}\n",
    "$$\n",
    "\n",
    "$$ \\lambda_1=0.3 \\space і \\space \\lambda_2=0.7$$"
   ]
  },
  {
   "cell_type": "code",
   "execution_count": 44,
   "id": "be603bfc-081e-4114-8024-22bf041bb6df",
   "metadata": {},
   "outputs": [
    {
     "name": "stdout",
     "output_type": "stream",
     "text": [
      "Setup complete\n"
     ]
    }
   ],
   "source": [
    "from IPython.display import display, Math, Latex, HTML\n",
    "import numpy as  np\n",
    "\n",
    "R1 = np.array([[1, .3, .8, .5, 1], \n",
    "               [.6, 1, .7, .3, .7], \n",
    "               [.6, .0, 1, .9, .1], \n",
    "               [.3, 1, .6, 1, .4], \n",
    "               [.2, .0, .1, .1, 1]])\n",
    "lambda1 = .3\n",
    "\n",
    "R2 = np.array([[1, 0, 1, 0, .6], \n",
    "               [1, 1, .9, .4, 1], \n",
    "               [0, .7, 1, 0, .7], \n",
    "               [.5, .3, 0, 1, .7], \n",
    "               [1, .9, .8, .3, 1]])\n",
    "lambda2 = .7\n",
    "\n",
    "print(\"Setup complete\")"
   ]
  },
  {
   "cell_type": "code",
   "execution_count": 15,
   "id": "75ff5d8b-dc19-42dc-848c-7f142930bcd2",
   "metadata": {},
   "outputs": [],
   "source": [
    "def print_latex_matrix(matrix_name, array):\n",
    "    matrix = ''\n",
    "    for row in array:\n",
    "        try:\n",
    "            for number in row:\n",
    "                matrix += f'{number}&'\n",
    "        except TypeError:\n",
    "            matrix += f'{row}&'\n",
    "        matrix = matrix[:-1] + r'\\\\'\n",
    "    display(Math(matrix_name+r'=\\begin{pmatrix}'+matrix+r'\\end{pmatrix}'))\n"
   ]
  },
  {
   "cell_type": "markdown",
   "id": "ffa788a3-633c-496c-affe-dd136c1d8fd4",
   "metadata": {},
   "source": [
    "$$ Q_1=\\lambda_1R_1\\cap\\lambda_2R_2$$"
   ]
  },
  {
   "cell_type": "code",
   "execution_count": 31,
   "id": "d34cbd9f-3bc0-49be-8df1-f4673ca3b26a",
   "metadata": {},
   "outputs": [
    {
     "data": {
      "text/latex": [
       "$\\displaystyle \\mu_{Q_1}(x_i, x_j)=\\begin{pmatrix}0.3&0.0&0.24&0.0&0.3\\\\0.18&0.3&0.21&0.09&0.21\\\\0.0&0.0&0.3&0.0&0.03\\\\0.09&0.21&0.0&0.3&0.12\\\\0.06&0.0&0.03&0.03&0.3\\\\\\end{pmatrix}$"
      ],
      "text/plain": [
       "<IPython.core.display.Math object>"
      ]
     },
     "metadata": {},
     "output_type": "display_data"
    }
   ],
   "source": [
    "Q1 = np.minimum(lambda1*R1, lambda2*R2)\n",
    "\n",
    "print_latex_matrix(r\"\\mu_{Q_1}(x_i, x_j)\", Q1)"
   ]
  },
  {
   "cell_type": "markdown",
   "id": "7ed15762-9138-4340-97b4-33204904ad32",
   "metadata": {},
   "source": [
    "$$ Q_1^S = Q_1 - Q_1^T$$"
   ]
  },
  {
   "cell_type": "code",
   "execution_count": 33,
   "id": "d79df731-3dab-4996-b959-584df793d48b",
   "metadata": {},
   "outputs": [
    {
     "data": {
      "text/latex": [
       "$\\displaystyle \\mu^S_{Q_1}(x_i, x_j)=\\begin{pmatrix}0.0&0.0&0.24&0.0&0.24\\\\0.18&0.0&0.21&0.0&0.21\\\\0.0&0.0&0.0&0.0&0.0\\\\0.09&0.12&0.0&0.0&0.09\\\\0.0&0.0&0.0&0.0&0.0\\\\\\end{pmatrix}$"
      ],
      "text/plain": [
       "<IPython.core.display.Math object>"
      ]
     },
     "metadata": {},
     "output_type": "display_data"
    }
   ],
   "source": [
    "Q1_S = Q1 - Q1.T\n",
    "Q1_S = np.clip(Q1_S, 0, 1)\n",
    "print_latex_matrix(r\"\\mu^S_{Q_1}(x_i, x_j)\", Q1_S)"
   ]
  },
  {
   "cell_type": "markdown",
   "id": "4f8ee98a-456a-496c-87e4-eb0900e5e2ab",
   "metadata": {},
   "source": [
    "$$ \\mu^{н.д.}_{Q_1}(x) = 1 - \\sup_{y \\in X}{\\mu^S_{Q_1}(x, y)}$$"
   ]
  },
  {
   "cell_type": "code",
   "execution_count": 34,
   "id": "5716be91-7a40-4ce4-8a34-8abfa7739724",
   "metadata": {},
   "outputs": [
    {
     "data": {
      "text/latex": [
       "$\\displaystyle \\mu^{н.д.}_{Q_1}(x_i, x_j)=\\begin{pmatrix}0.82&0.88&0.76&1.0&0.76\\\\\\end{pmatrix}$"
      ],
      "text/plain": [
       "<IPython.core.display.Math object>"
      ]
     },
     "metadata": {},
     "output_type": "display_data"
    }
   ],
   "source": [
    "Q1_nd = 1 - np.max(Q1_S, axis=0)\n",
    "Q1_nd = np.round_(Q1_nd, decimals = 2) \n",
    "print_latex_matrix(r\"\\mu^{н.д.}_{Q_1}(x_i, x_j)\", np.reshape(Q1_nd, (1, Q1_nd.size)))"
   ]
  },
  {
   "cell_type": "markdown",
   "id": "ac767b27-f41d-466b-9e3a-df0a58d80fa1",
   "metadata": {},
   "source": [
    "$$ Q_2 = \\lambda_1\\cdot\\mu_1(x_i, x_j)+\\lambda_2\\cdot\\mu_2(x_i, x_j)$$"
   ]
  },
  {
   "cell_type": "code",
   "execution_count": 43,
   "id": "746ff11d-83df-48a5-bb4e-d1fd22865a43",
   "metadata": {},
   "outputs": [
    {
     "data": {
      "text/latex": [
       "$\\displaystyle \\mu_{Q_2}(x_i)=\\begin{pmatrix}1.0&0.09&0.94&0.15&0.72\\\\0.88&1.0&0.84&0.37&0.91\\\\0.18&0.49&1.0&0.27&0.52\\\\0.44&0.51&0.18&1.0&0.61\\\\0.76&0.63&0.59&0.24&1.0\\\\\\end{pmatrix}$"
      ],
      "text/plain": [
       "<IPython.core.display.Math object>"
      ]
     },
     "metadata": {},
     "output_type": "display_data"
    }
   ],
   "source": [
    "Q2 = lambda1*R1 + lambda2*R2\n",
    "Q2 = np.round_(Q2, decimals = 2) \n",
    "print_latex_matrix(r\"\\mu_{Q_2}(x_i)\", Q2)"
   ]
  },
  {
   "cell_type": "code",
   "execution_count": 37,
   "id": "fce26952-43d9-4c5d-89a4-7fcc1a087667",
   "metadata": {},
   "outputs": [
    {
     "data": {
      "text/latex": [
       "$\\displaystyle \\mu^S_{Q_2}(x_i, x_j)=\\begin{pmatrix}0.0&0.0&0.76&0.0&0.0\\\\0.79&0.0&0.35&0.0&0.28\\\\0.0&0.0&0.0&0.09&0.0\\\\0.29&0.14&0.0&0.0&0.37\\\\0.04&0.0&0.07&0.0&0.0\\\\\\end{pmatrix}$"
      ],
      "text/plain": [
       "<IPython.core.display.Math object>"
      ]
     },
     "metadata": {},
     "output_type": "display_data"
    }
   ],
   "source": [
    "Q2_S = np.clip((Q2 - Q2.T), 0, 1)\n",
    "Q2_S = np.round_(Q2_S, decimals = 2) \n",
    "print_latex_matrix(r\"\\mu^S_{Q_2}(x_i, x_j)\", Q2_S)"
   ]
  },
  {
   "cell_type": "code",
   "execution_count": 42,
   "id": "d74e4b88-3055-42e0-9292-c11523c02a9c",
   "metadata": {},
   "outputs": [
    {
     "data": {
      "text/latex": [
       "$\\displaystyle \\mu^{н.д.}_{Q_2}(x_i)=\\begin{pmatrix}0.21&0.86&0.24&0.91&0.63\\\\\\end{pmatrix}$"
      ],
      "text/plain": [
       "<IPython.core.display.Math object>"
      ]
     },
     "metadata": {},
     "output_type": "display_data"
    }
   ],
   "source": [
    "Q2_nd = 1 - np.max(Q2_S, axis=0)\n",
    "Q2_nd = np.round_(Q2_nd, decimals = 2) \n",
    "print_latex_matrix(r\"\\mu^{н.д.}_{Q_2}(x_i)\", np.reshape(Q2_nd, (1, Q2_nd.size)))"
   ]
  },
  {
   "cell_type": "markdown",
   "id": "e790168e-b998-4521-81c3-f23b072abd30",
   "metadata": {},
   "source": [
    "$$ \\mu^{н.д.}(x)=min\\{\\mu^{н.д.}_{Q_1}(x), \\mu^{н.д.}_{Q_2}(x)\\}$$\n",
    "$$ X^{Н.Д.}=\\{x\\in X|\\mu^{н.д.}(x)=\\sup_{x'\\in X}{\\mu^{н.д.}(x')}\\}$$"
   ]
  },
  {
   "cell_type": "code",
   "execution_count": 39,
   "id": "c6bbed82-8020-4e27-9cf5-013662832119",
   "metadata": {},
   "outputs": [
    {
     "data": {
      "text/latex": [
       "$\\displaystyle \\mu^{н.д.}=\\begin{pmatrix}0.21&0.86&0.24&0.91&0.63\\\\\\end{pmatrix}$"
      ],
      "text/plain": [
       "<IPython.core.display.Math object>"
      ]
     },
     "metadata": {},
     "output_type": "display_data"
    },
    {
     "data": {
      "text/html": [
       "Оскільки альтернатива x<sub>4</sub> [0.91] має максимальний ступінь недомінованості, отже її вибір можна вважати раціональним."
      ],
      "text/plain": [
       "<IPython.core.display.HTML object>"
      ]
     },
     "metadata": {},
     "output_type": "display_data"
    }
   ],
   "source": [
    "Q_nd = np.minimum(Q1_nd, Q2_nd)\n",
    "print_latex_matrix(r\"\\mu^{н.д.}\", np.reshape(Q_nd, (1, Q_nd.size)))\n",
    "display(HTML(f\"Оскільки альтернатива x<sub>{np.argmax(Q_nd)+1}</sub> [{np.max(Q_nd)}] має максимальний ступінь недомінованості, отже її вибір можна вважати раціональним.\"))"
   ]
  }
 ],
 "metadata": {
  "kernelspec": {
   "display_name": "Python 3 (ipykernel)",
   "language": "python",
   "name": "python3"
  },
  "language_info": {
   "codemirror_mode": {
    "name": "ipython",
    "version": 3
   },
   "file_extension": ".py",
   "mimetype": "text/x-python",
   "name": "python",
   "nbconvert_exporter": "python",
   "pygments_lexer": "ipython3",
   "version": "3.12.1"
  }
 },
 "nbformat": 4,
 "nbformat_minor": 5
}
